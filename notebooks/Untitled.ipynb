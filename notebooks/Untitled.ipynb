{
 "cells": [
  {
   "cell_type": "markdown",
   "metadata": {
    "id": "lJbpRG8SYeUW"
   },
   "source": [
    "# ImageNet Collection / Saves to Directories (Slow)"
   ]
  },
  {
   "cell_type": "markdown",
   "metadata": {
    "id": "VO3BmEBPYiXq"
   },
   "source": [
    "Cleanup folders in case something goes wrong"
   ]
  },
  {
   "cell_type": "code",
   "execution_count": 3,
   "metadata": {
    "id": "a_pI-6yyYkEd"
   },
   "outputs": [
    {
     "ename": "FileNotFoundError",
     "evalue": "[Errno 2] No such file or directory: '/data/processed/train'",
     "output_type": "error",
     "traceback": [
      "\u001b[0;31m---------------------------------------------------------------------------\u001b[0m",
      "\u001b[0;31mFileNotFoundError\u001b[0m                         Traceback (most recent call last)",
      "\u001b[0;32m<ipython-input-3-8c375114dce0>\u001b[0m in \u001b[0;36m<module>\u001b[0;34m\u001b[0m\n\u001b[1;32m      1\u001b[0m \u001b[0;32mimport\u001b[0m \u001b[0mshutil\u001b[0m\u001b[0;34m\u001b[0m\u001b[0;34m\u001b[0m\u001b[0m\n\u001b[0;32m----> 2\u001b[0;31m \u001b[0mshutil\u001b[0m\u001b[0;34m.\u001b[0m\u001b[0mrmtree\u001b[0m\u001b[0;34m(\u001b[0m\u001b[0;34m'/data/processed/train'\u001b[0m\u001b[0;34m)\u001b[0m\u001b[0;34m\u001b[0m\u001b[0;34m\u001b[0m\u001b[0m\n\u001b[0m\u001b[1;32m      3\u001b[0m \u001b[0mshutil\u001b[0m\u001b[0;34m.\u001b[0m\u001b[0mrmtree\u001b[0m\u001b[0;34m(\u001b[0m\u001b[0;34m'/data/processed/validation'\u001b[0m\u001b[0;34m)\u001b[0m\u001b[0;34m\u001b[0m\u001b[0;34m\u001b[0m\u001b[0m\n",
      "\u001b[0;32m/usr/lib/python3.8/shutil.py\u001b[0m in \u001b[0;36mrmtree\u001b[0;34m(path, ignore_errors, onerror)\u001b[0m\n\u001b[1;32m    704\u001b[0m             \u001b[0morig_st\u001b[0m \u001b[0;34m=\u001b[0m \u001b[0mos\u001b[0m\u001b[0;34m.\u001b[0m\u001b[0mlstat\u001b[0m\u001b[0;34m(\u001b[0m\u001b[0mpath\u001b[0m\u001b[0;34m)\u001b[0m\u001b[0;34m\u001b[0m\u001b[0;34m\u001b[0m\u001b[0m\n\u001b[1;32m    705\u001b[0m         \u001b[0;32mexcept\u001b[0m \u001b[0mException\u001b[0m\u001b[0;34m:\u001b[0m\u001b[0;34m\u001b[0m\u001b[0;34m\u001b[0m\u001b[0m\n\u001b[0;32m--> 706\u001b[0;31m             \u001b[0monerror\u001b[0m\u001b[0;34m(\u001b[0m\u001b[0mos\u001b[0m\u001b[0;34m.\u001b[0m\u001b[0mlstat\u001b[0m\u001b[0;34m,\u001b[0m \u001b[0mpath\u001b[0m\u001b[0;34m,\u001b[0m \u001b[0msys\u001b[0m\u001b[0;34m.\u001b[0m\u001b[0mexc_info\u001b[0m\u001b[0;34m(\u001b[0m\u001b[0;34m)\u001b[0m\u001b[0;34m)\u001b[0m\u001b[0;34m\u001b[0m\u001b[0;34m\u001b[0m\u001b[0m\n\u001b[0m\u001b[1;32m    707\u001b[0m             \u001b[0;32mreturn\u001b[0m\u001b[0;34m\u001b[0m\u001b[0;34m\u001b[0m\u001b[0m\n\u001b[1;32m    708\u001b[0m         \u001b[0;32mtry\u001b[0m\u001b[0;34m:\u001b[0m\u001b[0;34m\u001b[0m\u001b[0;34m\u001b[0m\u001b[0m\n",
      "\u001b[0;32m/usr/lib/python3.8/shutil.py\u001b[0m in \u001b[0;36mrmtree\u001b[0;34m(path, ignore_errors, onerror)\u001b[0m\n\u001b[1;32m    702\u001b[0m         \u001b[0;31m# lstat()/open()/fstat() trick.\u001b[0m\u001b[0;34m\u001b[0m\u001b[0;34m\u001b[0m\u001b[0;34m\u001b[0m\u001b[0m\n\u001b[1;32m    703\u001b[0m         \u001b[0;32mtry\u001b[0m\u001b[0;34m:\u001b[0m\u001b[0;34m\u001b[0m\u001b[0;34m\u001b[0m\u001b[0m\n\u001b[0;32m--> 704\u001b[0;31m             \u001b[0morig_st\u001b[0m \u001b[0;34m=\u001b[0m \u001b[0mos\u001b[0m\u001b[0;34m.\u001b[0m\u001b[0mlstat\u001b[0m\u001b[0;34m(\u001b[0m\u001b[0mpath\u001b[0m\u001b[0;34m)\u001b[0m\u001b[0;34m\u001b[0m\u001b[0;34m\u001b[0m\u001b[0m\n\u001b[0m\u001b[1;32m    705\u001b[0m         \u001b[0;32mexcept\u001b[0m \u001b[0mException\u001b[0m\u001b[0;34m:\u001b[0m\u001b[0;34m\u001b[0m\u001b[0;34m\u001b[0m\u001b[0m\n\u001b[1;32m    706\u001b[0m             \u001b[0monerror\u001b[0m\u001b[0;34m(\u001b[0m\u001b[0mos\u001b[0m\u001b[0;34m.\u001b[0m\u001b[0mlstat\u001b[0m\u001b[0;34m,\u001b[0m \u001b[0mpath\u001b[0m\u001b[0;34m,\u001b[0m \u001b[0msys\u001b[0m\u001b[0;34m.\u001b[0m\u001b[0mexc_info\u001b[0m\u001b[0;34m(\u001b[0m\u001b[0;34m)\u001b[0m\u001b[0;34m)\u001b[0m\u001b[0;34m\u001b[0m\u001b[0;34m\u001b[0m\u001b[0m\n",
      "\u001b[0;31mFileNotFoundError\u001b[0m: [Errno 2] No such file or directory: '/data/processed/train'"
     ]
    }
   ],
   "source": [
    "import shutil\n",
    "shutil.rmtree('/data/processed/train')\n",
    "shutil.rmtree('/data/processed/validation')"
   ]
  },
  {
   "cell_type": "markdown",
   "metadata": {
    "id": "pnkQ2Et9Yl7m"
   },
   "source": [
    "List of wnid to get images for and other constants. Get wnid from imagenet site."
   ]
  },
  {
   "cell_type": "code",
   "execution_count": 4,
   "metadata": {
    "id": "ds3_JZ1TYnia"
   },
   "outputs": [],
   "source": [
    "import os\n",
    "train_percent = 0.8  # 80% of images are training, 20% validation\n",
    "train_limiter = 100  # Max training samples per subset\n",
    "valid_limiter = 20 # Max validation samples per subset\n",
    "wnid_list = (\"n04194289\",\"n02084071\",\"n01767661\",\"n09623038\")"
   ]
  },
  {
   "cell_type": "code",
   "execution_count": 12,
   "metadata": {
    "colab": {
     "base_uri": "https://localhost:8080/",
     "height": 85
    },
    "id": "nTvsC3wGYpBR",
    "outputId": "543bf175-287f-4f9f-8ca4-8c29e2bb41c0"
   },
   "outputs": [
    {
     "name": "stdout",
     "output_type": "stream",
     "text": [
      "n04194289:1262\n"
     ]
    },
    {
     "ename": "FileNotFoundError",
     "evalue": "[Errno 2] No such file or directory: '/content/train/n04194289'",
     "output_type": "error",
     "traceback": [
      "\u001b[0;31m---------------------------------------------------------------------------\u001b[0m",
      "\u001b[0;31mFileNotFoundError\u001b[0m                         Traceback (most recent call last)",
      "\u001b[0;32m<ipython-input-12-29d7f4092a08>\u001b[0m in \u001b[0;36m<module>\u001b[0;34m\u001b[0m\n\u001b[1;32m     22\u001b[0m   \u001b[0mprint\u001b[0m\u001b[0;34m(\u001b[0m\u001b[0mwnid\u001b[0m\u001b[0;34m+\u001b[0m \u001b[0;34m\":\"\u001b[0m \u001b[0;34m+\u001b[0m \u001b[0mstr\u001b[0m\u001b[0;34m(\u001b[0m\u001b[0mlen\u001b[0m\u001b[0;34m(\u001b[0m\u001b[0msplit_urls\u001b[0m\u001b[0;34m)\u001b[0m\u001b[0;34m)\u001b[0m\u001b[0;34m)\u001b[0m\u001b[0;31m#print the length of the list so you know how many urls you have\u001b[0m\u001b[0;34m\u001b[0m\u001b[0;34m\u001b[0m\u001b[0m\n\u001b[1;32m     23\u001b[0m   \u001b[0mwnid_dict\u001b[0m\u001b[0;34m[\u001b[0m\u001b[0mwnid\u001b[0m\u001b[0;34m]\u001b[0m \u001b[0;34m=\u001b[0m \u001b[0msplit_urls\u001b[0m\u001b[0;34m;\u001b[0m\u001b[0;34m\u001b[0m\u001b[0;34m\u001b[0m\u001b[0m\n\u001b[0;32m---> 24\u001b[0;31m   \u001b[0mos\u001b[0m\u001b[0;34m.\u001b[0m\u001b[0mmkdir\u001b[0m\u001b[0;34m(\u001b[0m\u001b[0;34m\"/content/train/\"\u001b[0m\u001b[0;34m+\u001b[0m\u001b[0mwnid\u001b[0m\u001b[0;34m)\u001b[0m\u001b[0;34m\u001b[0m\u001b[0;34m\u001b[0m\u001b[0m\n\u001b[0m\u001b[1;32m     25\u001b[0m   \u001b[0mos\u001b[0m\u001b[0;34m.\u001b[0m\u001b[0mmkdir\u001b[0m\u001b[0;34m(\u001b[0m\u001b[0;34m\"/content/validation/\"\u001b[0m\u001b[0;34m+\u001b[0m\u001b[0mwnid\u001b[0m\u001b[0;34m)\u001b[0m\u001b[0;34m\u001b[0m\u001b[0;34m\u001b[0m\u001b[0m\n",
      "\u001b[0;31mFileNotFoundError\u001b[0m: [Errno 2] No such file or directory: '/content/train/n04194289'"
     ]
    }
   ],
   "source": [
    "from bs4 import BeautifulSoup\n",
    "import numpy as np\n",
    "import requests\n",
    "import cv2\n",
    "import PIL.Image\n",
    "import urllib\n",
    "\n",
    "!mkdir ../data/train #create the Train folder\n",
    "!mkdir ../data/validation\n",
    "\n",
    "wnid_dict = {}\n",
    "\n",
    "for wnid in wnid_list:\n",
    "  \n",
    "  page = requests.get(\"http://www.image-net.org/api/text/imagenet.synset.geturls?wnid=\"+wnid)#ship synset\n",
    "\n",
    "  soup = BeautifulSoup(page.content, 'html.parser')\n",
    "\n",
    "  str_soup=str(soup)#convert soup to string so it can be split\n",
    "  type(str_soup)\n",
    "  split_urls=str_soup.split('\\r\\n')#split so each url is a different possition on a list\n",
    "  print(wnid+ \":\" + str(len(split_urls)))#print the length of the list so you know how many urls you have\n",
    "  wnid_dict[wnid] = split_urls;\n",
    "  os.mkdir(\"/content/train/\"+wnid)\n",
    "  os.mkdir(\"/content/validation/\"+wnid)\n"
   ]
  },
  {
   "cell_type": "code",
   "execution_count": 9,
   "metadata": {
    "colab": {
     "base_uri": "https://localhost:8080/",
     "height": 578
    },
    "id": "-EkHpdmjYqmk",
    "outputId": "4b5f0123-a946-446f-a269-52dc98f73ffd"
   },
   "outputs": [
    {
     "name": "stdout",
     "output_type": "stream",
     "text": [
      "n04194289:\n",
      "\n"
     ]
    },
    {
     "ename": "NameError",
     "evalue": "name 'wnid_dict' is not defined",
     "output_type": "error",
     "traceback": [
      "\u001b[0;31m---------------------------------------------------------------------------\u001b[0m",
      "\u001b[0;31mNameError\u001b[0m                                 Traceback (most recent call last)",
      "\u001b[0;32m<ipython-input-9-e43c69db5e17>\u001b[0m in \u001b[0;36m<module>\u001b[0;34m\u001b[0m\n\u001b[1;32m     12\u001b[0m \u001b[0;32mfor\u001b[0m \u001b[0mwnid\u001b[0m \u001b[0;32min\u001b[0m \u001b[0mwnid_list\u001b[0m\u001b[0;34m:\u001b[0m\u001b[0;34m\u001b[0m\u001b[0;34m\u001b[0m\u001b[0m\n\u001b[1;32m     13\u001b[0m   \u001b[0mprint\u001b[0m\u001b[0;34m(\u001b[0m\u001b[0mwnid\u001b[0m\u001b[0;34m+\u001b[0m\u001b[0;34m\":\\n\"\u001b[0m\u001b[0;34m)\u001b[0m\u001b[0;34m\u001b[0m\u001b[0;34m\u001b[0m\u001b[0m\n\u001b[0;32m---> 14\u001b[0;31m   \u001b[0;32mfor\u001b[0m \u001b[0mprogress\u001b[0m \u001b[0;32min\u001b[0m \u001b[0mrange\u001b[0m\u001b[0;34m(\u001b[0m\u001b[0mround\u001b[0m\u001b[0;34m(\u001b[0m\u001b[0mlen\u001b[0m\u001b[0;34m(\u001b[0m\u001b[0mwnid_dict\u001b[0m\u001b[0;34m[\u001b[0m\u001b[0mwnid\u001b[0m\u001b[0;34m]\u001b[0m\u001b[0;34m)\u001b[0m \u001b[0;34m*\u001b[0m \u001b[0mtrain_percent\u001b[0m\u001b[0;34m)\u001b[0m\u001b[0;34m)\u001b[0m\u001b[0;34m:\u001b[0m\u001b[0;31m#store all the images on a directory\u001b[0m\u001b[0;34m\u001b[0m\u001b[0;34m\u001b[0m\u001b[0m\n\u001b[0m\u001b[1;32m     15\u001b[0m       \u001b[0;31m# Print out progress whenever progress is a multiple of 20 so we can follow the\u001b[0m\u001b[0;34m\u001b[0m\u001b[0;34m\u001b[0m\u001b[0;34m\u001b[0m\u001b[0m\n\u001b[1;32m     16\u001b[0m       \u001b[0;31m# (relatively slow) progress\u001b[0m\u001b[0;34m\u001b[0m\u001b[0;34m\u001b[0m\u001b[0;34m\u001b[0m\u001b[0m\n",
      "\u001b[0;31mNameError\u001b[0m: name 'wnid_dict' is not defined"
     ]
    }
   ],
   "source": [
    "img_rows, img_cols = 32, 32 #number of rows and columns to convert the images to\n",
    "input_shape = (img_rows, img_cols, 3)#format to store the images (rows, columns,channels) called channels last\n",
    "def url_to_image(url):\n",
    "  # download the image, convert it to a NumPy array, and then read\n",
    "  # it into OpenCV format\n",
    "  resp = urllib.request.urlopen(url)\n",
    "  image = np.asarray(bytearray(resp.read()), dtype=\"uint8\")\n",
    "  image = cv2.imdecode(image, cv2.IMREAD_COLOR)\n",
    " \n",
    "  return image\n",
    "\n",
    "for wnid in wnid_list:\n",
    "  print(wnid+\":\\n\")\n",
    "  for progress in range(round(len(wnid_dict[wnid]) * train_percent)):#store all the images on a directory\n",
    "      # Print out progress whenever progress is a multiple of 20 so we can follow the\n",
    "      # (relatively slow) progress\n",
    "      if(progress%20==0):\n",
    "          print(progress)\n",
    "      if(progress >= train_limiter):\n",
    "          break\n",
    "      if not wnid_dict[wnid][progress] == None:\n",
    "        try:\n",
    "          I = url_to_image(wnid_dict[wnid][progress])\n",
    "          if (len(I.shape))==3: #check if the image has width, length and channels\n",
    "            save_path = '/content/train/'+wnid+'/img'+str(progress)+'.jpg'#create a name of each image\n",
    "            cv2.imwrite(save_path,I)\n",
    "        except:\n",
    "                None\n",
    "\n",
    "\n",
    "  #Validation data:\n",
    "  for progress in range(round(len(wnid_dict[wnid]) * (1 - train_percent))):#store all the images on a directory\n",
    "      # Print out progress whenever progress is a multiple of 20 so we can follow the\n",
    "      # (relatively slow) progress\n",
    "      if(progress%20==0):\n",
    "          print(progress)\n",
    "      if(progress >= valid_limiter):\n",
    "          break\n",
    "      if not wnid_dict[wnid][progress] == None:\n",
    "        try:\n",
    "          I = url_to_image(wnid_dict[wnid][n_of_training_images+progress])#get images that are different from the ones used for training\n",
    "          if (len(I.shape))==3: #check if the image has width, length and channels\n",
    "            save_path = '/content/validation/'+wnid+'/img'+str(progress)+'.jpg'#create a name of each image\n",
    "            cv2.imwrite(save_path,I)\n",
    "        except:\n",
    "                None"
   ]
  },
  {
   "cell_type": "code",
   "execution_count": null,
   "metadata": {},
   "outputs": [],
   "source": []
  }
 ],
 "metadata": {
  "kernelspec": {
   "display_name": "Python 3",
   "language": "python",
   "name": "python3"
  },
  "language_info": {
   "codemirror_mode": {
    "name": "ipython",
    "version": 3
   },
   "file_extension": ".py",
   "mimetype": "text/x-python",
   "name": "python",
   "nbconvert_exporter": "python",
   "pygments_lexer": "ipython3",
   "version": "3.8.5"
  }
 },
 "nbformat": 4,
 "nbformat_minor": 4
}
